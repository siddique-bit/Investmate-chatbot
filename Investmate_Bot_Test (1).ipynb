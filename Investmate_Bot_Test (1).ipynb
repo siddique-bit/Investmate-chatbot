{
  "cells": [
    {
      "cell_type": "code",
      "execution_count": null,
      "metadata": {
        "colab": {
          "base_uri": "https://localhost:8080/"
        },
        "id": "Mrdmrdt0xn3Y",
        "outputId": "34808dc6-312a-4a38-a7d5-63476de377d7"
      },
      "outputs": [
        {
          "output_type": "stream",
          "name": "stdout",
          "text": [
            "Welcome to the Investmate Chatbot. Ask me anything about crowdfunding!\n",
            "You: What is Investmate and how can it help me?\n",
            "Bot: Investmate is a smart investment platform designed to guide you through learning, analyzing, and growing your wealth with Shariah-compliant investment options. We suggest starting with our beginner modules!\n",
            "You:  I'm new to investing. Where should I start?\n",
            "Bot:  Start with our Investment Basics section. Its a great place to learn the fundamentals before making real decisions.\n",
            "You: Can I track my portfolio in real time?\n",
            "Bot: Absolutely. You can monitor your performance and portfolio insights live through your dashboard.\n",
            "You: What’s the minimum amount I need to invest?\n",
            "Bot: It depends on the opportunity, but we recommend starting smallcheck each project for specific minimums.\n",
            "You: How do I know if an investment is risky?\n",
            "Bot: Each opportunity comes with a risk profile. We suggest reading the full report before investing.\n",
            "You: Is my investment safe with Investmate?\n",
            "Bot: While no investment is risk-free, we ensure every project goes through due diligence. We recommend diversifying your investments for added security\n",
            "You: What if I want to exit an investment early?\n",
            "Bot: Early exit policies vary by project. We advise checking the terms and conditions before investing.\n",
            "You: Does Investmate provide educational resources?\n",
            "Bot: Yes! We have bite-sized lessons, articles, and video explainers to help you grow your knowledge.\n",
            "You:  How can I earn with Investmate?\n",
            "Bot: By investing in vetted opportunities, you can earn through profit sharing or business growth returns.\n",
            "You:  Can I suggest a business or startup to be listed on Investmate?\n",
            "Bot:  No\n",
            "You:  How often are new investment opportunities posted?\n",
            "Bot: We aim to post new, curated opportunities monthly. Keep an eye on your dashboard notifications\n",
            "You:  Is there a mobile app for Investmate?\n",
            "Bot: Platforms may charge a small processing fee (2-5%), but most crawdfunding campaigns are fee-free for donors.\n",
            "You:  How do I verify the background of a listed project?\n",
            "Bot: Platforms provide real-time updates, including budget breakdowns and timelines, via project dashboards.\n",
            "You: : Can I connect with other investors on the platform?\n",
            "Bot: By investing in vetted opportunities, you can earn through profit sharing or business growth returns.\n"
          ]
        }
      ],
      "source": [
        "import pandas as pd\n",
        "from sklearn.feature_extraction.text import TfidfVectorizer\n",
        "from sklearn.metrics.pairwise import cosine_similarity\n",
        "\n",
        "# Load the FAQ dataset, handling potential parsing errors\n",
        "# Specify the encoding explicitly, e.g., 'latin-1' or 'iso-8859-1'\n",
        "faq_df = pd.read_csv(\"/content/drive/MyDrive/Investmate chatbot dataset /(MConverter.eu) 1.csv\", on_bad_lines='warn', encoding='latin-1') # or on_bad_lines='skip'\n",
        "# If 'latin-1' doesn't work, try other encodings like 'iso-8859-1', 'cp1252', etc.\n",
        "\n",
        "\n",
        "# Extract questions\n",
        "# Extract questions and responses\n",
        "questions = faq_df['User Query'].fillna(\"\").tolist()\n",
        "responses = faq_df['Response'].fillna(\"Your question is noted. Please contact with our agents via WhatsApp https://wa.me/+8801953227349 or Email: Investmate.info@gmail.com\").tolist()\n",
        "\n",
        "# Initialize the vectorizer and fit it on questions\n",
        "vectorizer = TfidfVectorizer()\n",
        "question_vectors = vectorizer.fit_transform(questions)\n",
        "\n",
        "def get_response(user_input):\n",
        "    input_vector = vectorizer.transform([user_input])\n",
        "    similarity = cosine_similarity(input_vector, question_vectors)\n",
        "    idx = similarity.argmax()\n",
        "    score = similarity[0, idx]\n",
        "\n",
        "    # Set a threshold to avoid irrelevant answers\n",
        "    if score < 0.3:\n",
        "        return \"Your question is noted. Please contact with our agents via WhatsApp https://wa.me/+8801953227349 or Email: Investmate.info@gmail.com\"\n",
        "    return responses[idx]\n",
        "\n",
        "# Example interaction loop\n",
        "if __name__ == \"__main__\":\n",
        "    print(\"Welcome to the Investmate Chatbot. Ask me anything about crowdfunding!\")\n",
        "    while True:\n",
        "        user_input = input(\"You: \")\n",
        "        if user_input.lower() in [\"exit\", \"quit\", \"bye\"]:\n",
        "            print(\"Bot: Goodbye!\")\n",
        "            break\n",
        "        response = get_response(user_input)\n",
        "        print(f\"Bot: {response}\")"
      ]
    },
    {
      "cell_type": "code",
      "execution_count": null,
      "metadata": {
        "id": "-EsH06CQMuke"
      },
      "outputs": [],
      "source": []
    },
    {
      "cell_type": "code",
      "execution_count": null,
      "metadata": {
        "id": "BJUdkp54Mud_"
      },
      "outputs": [],
      "source": []
    }
  ],
  "metadata": {
    "colab": {
      "provenance": []
    },
    "kernelspec": {
      "display_name": "Python 3",
      "name": "python3"
    },
    "language_info": {
      "name": "python"
    }
  },
  "nbformat": 4,
  "nbformat_minor": 0
}